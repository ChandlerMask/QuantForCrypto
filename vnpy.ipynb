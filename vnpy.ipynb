{
 "cells": [
  {
   "cell_type": "markdown",
   "metadata": {},
   "source": [
    "# 用于研究vnpy的功能"
   ]
  },
  {
   "cell_type": "code",
   "execution_count": 2,
   "metadata": {},
   "outputs": [
    {
     "name": "stdout",
     "output_type": "stream",
     "text": [
      "Collecting vnpy\n",
      "  Using cached vnpy-3.9.1-py3-none-any.whl.metadata (18 kB)\n",
      "Requirement already satisfied: tzlocal in ./.conda/lib/python3.10/site-packages (from vnpy) (5.2)\n",
      "Collecting PySide6 (from vnpy)\n",
      "  Using cached PySide6-6.7.1-cp39-abi3-manylinux_2_28_x86_64.whl.metadata (5.3 kB)\n",
      "Collecting pyqtgraph (from vnpy)\n",
      "  Using cached pyqtgraph-0.13.7-py3-none-any.whl.metadata (1.3 kB)\n",
      "Collecting qdarkstyle (from vnpy)\n",
      "  Using cached QDarkStyle-3.2.3-py2.py3-none-any.whl.metadata (3.2 kB)\n",
      "Requirement already satisfied: numpy in /home/codespace/.local/lib/python3.10/site-packages (from vnpy) (1.26.4)\n",
      "Requirement already satisfied: pandas in /home/codespace/.local/lib/python3.10/site-packages (from vnpy) (2.2.2)\n",
      "Requirement already satisfied: matplotlib in /home/codespace/.local/lib/python3.10/site-packages (from vnpy) (3.9.0)\n",
      "Requirement already satisfied: seaborn in /home/codespace/.local/lib/python3.10/site-packages (from vnpy) (0.13.2)\n",
      "Requirement already satisfied: ta-lib in ./.conda/lib/python3.10/site-packages (from vnpy) (0.4.30)\n",
      "Collecting deap (from vnpy)\n",
      "  Using cached deap-1.4.1-cp310-cp310-manylinux_2_5_x86_64.manylinux1_x86_64.manylinux_2_17_x86_64.manylinux2014_x86_64.whl.metadata (13 kB)\n",
      "Requirement already satisfied: pyzmq in /home/codespace/.local/lib/python3.10/site-packages (from vnpy) (26.0.3)\n",
      "Requirement already satisfied: plotly in /home/codespace/.local/lib/python3.10/site-packages (from vnpy) (5.22.0)\n",
      "Requirement already satisfied: tqdm in ./.conda/lib/python3.10/site-packages (from vnpy) (4.66.4)\n",
      "Requirement already satisfied: contourpy>=1.0.1 in /home/codespace/.local/lib/python3.10/site-packages (from matplotlib->vnpy) (1.2.1)\n",
      "Requirement already satisfied: cycler>=0.10 in /home/codespace/.local/lib/python3.10/site-packages (from matplotlib->vnpy) (0.12.1)\n",
      "Requirement already satisfied: fonttools>=4.22.0 in /home/codespace/.local/lib/python3.10/site-packages (from matplotlib->vnpy) (4.52.4)\n",
      "Requirement already satisfied: kiwisolver>=1.3.1 in /home/codespace/.local/lib/python3.10/site-packages (from matplotlib->vnpy) (1.4.5)\n",
      "Requirement already satisfied: packaging>=20.0 in /home/codespace/.local/lib/python3.10/site-packages (from matplotlib->vnpy) (24.0)\n",
      "Requirement already satisfied: pillow>=8 in /home/codespace/.local/lib/python3.10/site-packages (from matplotlib->vnpy) (10.3.0)\n",
      "Requirement already satisfied: pyparsing>=2.3.1 in /home/codespace/.local/lib/python3.10/site-packages (from matplotlib->vnpy) (3.1.2)\n",
      "Requirement already satisfied: python-dateutil>=2.7 in /home/codespace/.local/lib/python3.10/site-packages (from matplotlib->vnpy) (2.9.0.post0)\n",
      "Requirement already satisfied: pytz>=2020.1 in /home/codespace/.local/lib/python3.10/site-packages (from pandas->vnpy) (2024.1)\n",
      "Requirement already satisfied: tzdata>=2022.7 in /home/codespace/.local/lib/python3.10/site-packages (from pandas->vnpy) (2024.1)\n",
      "Requirement already satisfied: tenacity>=6.2.0 in /home/codespace/.local/lib/python3.10/site-packages (from plotly->vnpy) (8.3.0)\n",
      "Collecting shiboken6==6.7.1 (from PySide6->vnpy)\n",
      "  Using cached shiboken6-6.7.1-cp39-abi3-manylinux_2_28_x86_64.whl.metadata (2.5 kB)\n",
      "Collecting PySide6-Essentials==6.7.1 (from PySide6->vnpy)\n",
      "  Using cached PySide6_Essentials-6.7.1-cp39-abi3-manylinux_2_28_x86_64.whl.metadata (3.7 kB)\n",
      "Collecting PySide6-Addons==6.7.1 (from PySide6->vnpy)\n",
      "  Using cached PySide6_Addons-6.7.1-cp39-abi3-manylinux_2_28_x86_64.whl.metadata (4.0 kB)\n",
      "Collecting qtpy>=2 (from qdarkstyle->vnpy)\n",
      "  Using cached QtPy-2.4.1-py3-none-any.whl.metadata (12 kB)\n",
      "Requirement already satisfied: six>=1.5 in /home/codespace/.local/lib/python3.10/site-packages (from python-dateutil>=2.7->matplotlib->vnpy) (1.16.0)\n",
      "Using cached vnpy-3.9.1-py3-none-any.whl (141 kB)\n",
      "Using cached deap-1.4.1-cp310-cp310-manylinux_2_5_x86_64.manylinux1_x86_64.manylinux_2_17_x86_64.manylinux2014_x86_64.whl (135 kB)\n",
      "Using cached pyqtgraph-0.13.7-py3-none-any.whl (1.9 MB)\n",
      "Using cached PySide6-6.7.1-cp39-abi3-manylinux_2_28_x86_64.whl (530 kB)\n",
      "Using cached PySide6_Addons-6.7.1-cp39-abi3-manylinux_2_28_x86_64.whl (137.4 MB)\n",
      "Using cached PySide6_Essentials-6.7.1-cp39-abi3-manylinux_2_28_x86_64.whl (87.6 MB)\n",
      "Using cached shiboken6-6.7.1-cp39-abi3-manylinux_2_28_x86_64.whl (188 kB)\n",
      "Using cached QDarkStyle-3.2.3-py2.py3-none-any.whl (871 kB)\n",
      "Using cached QtPy-2.4.1-py3-none-any.whl (93 kB)\n",
      "Installing collected packages: shiboken6, qtpy, pyqtgraph, deap, qdarkstyle, PySide6-Essentials, PySide6-Addons, PySide6, vnpy\n",
      "Successfully installed PySide6-6.7.1 PySide6-Addons-6.7.1 PySide6-Essentials-6.7.1 deap-1.4.1 pyqtgraph-0.13.7 qdarkstyle-3.2.3 qtpy-2.4.1 shiboken6-6.7.1 vnpy-3.9.1\n"
     ]
    }
   ],
   "source": [
    "# !pip install TA-Lib\n",
    "# !pip install vnpy"
   ]
  },
  {
   "cell_type": "code",
   "execution_count": 3,
   "metadata": {},
   "outputs": [],
   "source": [
    "import vnpy"
   ]
  }
 ],
 "metadata": {
  "kernelspec": {
   "display_name": "Python 3",
   "language": "python",
   "name": "python3"
  },
  "language_info": {
   "codemirror_mode": {
    "name": "ipython",
    "version": 3
   },
   "file_extension": ".py",
   "mimetype": "text/x-python",
   "name": "python",
   "nbconvert_exporter": "python",
   "pygments_lexer": "ipython3",
   "version": "3.10.14"
  }
 },
 "nbformat": 4,
 "nbformat_minor": 2
}
